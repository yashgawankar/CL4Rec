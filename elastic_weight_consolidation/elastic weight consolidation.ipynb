{
 "cells": [
  {
   "cell_type": "code",
   "execution_count": 1,
   "id": "f36cb89c-4a3d-477d-a639-a92feb1a3da8",
   "metadata": {},
   "outputs": [
    {
     "name": "stdout",
     "output_type": "stream",
     "text": [
      "Requirement already satisfied: torchvision in /opt/anaconda3/lib/python3.12/site-packages (0.20.1)\n",
      "Requirement already satisfied: numpy in /opt/anaconda3/lib/python3.12/site-packages (from torchvision) (1.26.4)\n",
      "Requirement already satisfied: torch==2.5.1 in /opt/anaconda3/lib/python3.12/site-packages (from torchvision) (2.5.1)\n",
      "Requirement already satisfied: pillow!=8.3.*,>=5.3.0 in /opt/anaconda3/lib/python3.12/site-packages (from torchvision) (10.3.0)\n",
      "Requirement already satisfied: filelock in /opt/anaconda3/lib/python3.12/site-packages (from torch==2.5.1->torchvision) (3.13.1)\n",
      "Requirement already satisfied: typing-extensions>=4.8.0 in /opt/anaconda3/lib/python3.12/site-packages (from torch==2.5.1->torchvision) (4.11.0)\n",
      "Requirement already satisfied: networkx in /opt/anaconda3/lib/python3.12/site-packages (from torch==2.5.1->torchvision) (3.2.1)\n",
      "Requirement already satisfied: jinja2 in /opt/anaconda3/lib/python3.12/site-packages (from torch==2.5.1->torchvision) (3.1.4)\n",
      "Requirement already satisfied: fsspec in /opt/anaconda3/lib/python3.12/site-packages (from torch==2.5.1->torchvision) (2024.3.1)\n",
      "Requirement already satisfied: setuptools in /opt/anaconda3/lib/python3.12/site-packages (from torch==2.5.1->torchvision) (75.3.0)\n",
      "Requirement already satisfied: sympy==1.13.1 in /opt/anaconda3/lib/python3.12/site-packages (from torch==2.5.1->torchvision) (1.13.1)\n",
      "Requirement already satisfied: mpmath<1.4,>=1.1.0 in /opt/anaconda3/lib/python3.12/site-packages (from sympy==1.13.1->torch==2.5.1->torchvision) (1.3.0)\n",
      "Requirement already satisfied: MarkupSafe>=2.0 in /opt/anaconda3/lib/python3.12/site-packages (from jinja2->torch==2.5.1->torchvision) (2.1.3)\n"
     ]
    }
   ],
   "source": [
    "!pip install torchvision"
   ]
  },
  {
   "cell_type": "code",
   "execution_count": 2,
   "id": "04cb964f-2ecd-4911-8f6c-c08f91f5243b",
   "metadata": {},
   "outputs": [],
   "source": [
    "import torch\n",
    "import torch.nn as nn\n",
    "import torch.nn.functional as F\n",
    "import torch.optim as optim\n",
    "from torch import autograd\n",
    "import numpy as np\n",
    "from torch.utils.data import Dataset, DataLoader\n",
    "from torchvision import datasets, transforms\n",
    "from tqdm import tqdm"
   ]
  },
  {
   "cell_type": "code",
   "execution_count": 17,
   "id": "705fce1a-774e-40da-880a-6652f66a6751",
   "metadata": {},
   "outputs": [],
   "source": [
    "def find_accuracy(model, dataloader):\n",
    "    model = model.eval()\n",
    "    accuracy = 0\n",
    "    sum = 0 \n",
    "    for input, target in dataloader:\n",
    "        output = model(input.to(device))\n",
    "        sum += (output.argmax(dim=1).long() == target.to(device)).float().mean()\n",
    "    accuracy = float(sum) / len(dataloader)\n",
    "    return accuracy\n",
    "\n",
    "class LinearLayer(nn.Module):\n",
    "    def __init__(self, input_dim, output_dim, batch_norm=True):\n",
    "        super(LinearLayer, self).__init__()\n",
    "        self.batch_norm = batch_norm\n",
    "        self.linear = nn.Linear(input_dim, output_dim)\n",
    "        self.activation = nn.ReLU()\n",
    "        self.batchNorm = None\n",
    "        \n",
    "        if self.batch_norm:\n",
    "            self.batchNorm = nn.BatchNorm1d(output_dim)\n",
    "            \n",
    "    def forward(self, x):\n",
    "        if self.batch_norm:\n",
    "            return self.batchNorm(self.activation(self.linear(x)))\n",
    "            \n",
    "        return self.activation(self.linear(x))\n",
    "\n",
    "class Flatten(nn.Module):\n",
    "    def forward(self, x):\n",
    "        return x.view(x.shape[0], -1)\n",
    "    \n",
    "class Model(nn.Module):\n",
    "    def __init__(self, num_inputs, num_hidden, num_outputs):\n",
    "        super(Model, self).__init__()\n",
    "        self.f1 = Flatten()\n",
    "        self.linearLayer1 = LinearLayer(num_inputs, num_hidden)\n",
    "        self.linearLayer2 = LinearLayer(num_hidden, num_hidden)\n",
    "        self.linearLayer3 = nn.Linear(num_hidden, num_outputs)\n",
    "        \n",
    "    def forward(self, x):\n",
    "        return self.linearLayer3(self.linearLayer2(self.linearLayer1(self.f1(x))))"
   ]
  },
  {
   "cell_type": "code",
   "execution_count": 19,
   "id": "d33a61cf-d3b4-4bcd-adbd-92045b6e7c80",
   "metadata": {},
   "outputs": [],
   "source": [
    "\n",
    "def ewc_loss(model, weight, estimated_fishers, estimated_means):\n",
    "    losses = []\n",
    "    for param_name, param in model.named_parameters():\n",
    "        estimated_mean = estimated_means[param_name]\n",
    "        estimated_fisher = estimated_fishers[param_name]\n",
    "        losses.append((estimated_fisher * (param - estimated_mean) ** 2).sum())\n",
    "    return (weight / 2) * sum(losses)\n",
    "\n",
    "def estimate_ewc_params(model, train_ds, batch_size=100, num_batch=300, estimate_type='true'):\n",
    "    estimated_mean = {}\n",
    "\n",
    "    for param_name, param in model.named_parameters():\n",
    "        estimated_mean[param_name] = param.data.clone()\n",
    "        \n",
    "    estimated_fisher = {}\n",
    "    dl = DataLoader(train_ds, batch_size, shuffle=True)\n",
    "    \n",
    "    for n, p in model.named_parameters():\n",
    "        estimated_fisher[n] = torch.zeros_like(p)\n",
    "        \n",
    "    model.eval()\n",
    "    for i, (input, target) in enumerate(dl):\n",
    "        if i > num_batch:\n",
    "            break\n",
    "        model.zero_grad()\n",
    "\n",
    "        output = model(input.to(device))\n",
    "        label = target.to(device)\n",
    "        loss = F.nll_loss(F.log_softmax(output, dim=1), label)\n",
    "        loss.backward()\n",
    "        \n",
    "        for n, p in model.named_parameters():\n",
    "            estimated_fisher[n].data += p.grad.data ** 2 / len(dl)\n",
    "\n",
    "    estimated_fisher = {n: p for n, p in estimated_fisher.items()}\n",
    "    return estimated_mean, estimated_fisher"
   ]
  },
  {
   "cell_type": "code",
   "execution_count": 21,
   "id": "0f1277fa-675b-454c-9b67-24a2ec38c32c",
   "metadata": {},
   "outputs": [],
   "source": [
    "# Load MNIST dataset, representint task A\n",
    "mnist_train = datasets.MNIST(\"../data\", train=True, download=True, transform=transforms.ToTensor())\n",
    "mnist_test = datasets.MNIST(\"../data\", train=False, download=True, transform=transforms.ToTensor())\n",
    "train_loader = DataLoader(mnist_train, batch_size = 100, shuffle=True)\n",
    "test_loader = DataLoader(mnist_test, batch_size = 100, shuffle=False)"
   ]
  },
  {
   "cell_type": "code",
   "execution_count": 25,
   "id": "191aef39-ad5f-4cf0-b460-3e81d64e4026",
   "metadata": {},
   "outputs": [
    {
     "name": "stderr",
     "output_type": "stream",
     "text": [
      "100%|████████████████████████████████████████| 600/600 [00:01<00:00, 398.08it/s]\n",
      "100%|████████████████████████████████████████| 600/600 [00:01<00:00, 414.11it/s]\n",
      "100%|████████████████████████████████████████| 600/600 [00:01<00:00, 409.79it/s]\n",
      "100%|████████████████████████████████████████| 600/600 [00:01<00:00, 412.06it/s]\n",
      "100%|████████████████████████████████████████| 600/600 [00:01<00:00, 408.63it/s]\n",
      "100%|████████████████████████████████████████| 600/600 [00:01<00:00, 412.86it/s]\n",
      "100%|████████████████████████████████████████| 600/600 [00:01<00:00, 411.17it/s]\n",
      "100%|████████████████████████████████████████| 600/600 [00:01<00:00, 409.71it/s]\n",
      "100%|████████████████████████████████████████| 600/600 [00:01<00:00, 411.01it/s]\n",
      "100%|████████████████████████████████████████| 600/600 [00:01<00:00, 408.58it/s]\n"
     ]
    }
   ],
   "source": [
    "EPOCHS = 10\n",
    "lr=0.001\n",
    "weight=100000 \n",
    "accuracies = {}\n",
    "\n",
    "device = torch.device(\"cuda:1\" if torch.cuda.is_available() else \"cpu\")\n",
    "\n",
    "criterion = nn.CrossEntropyLoss()\n",
    "\n",
    "model = Model(num_inputs = 28 * 28, num_hidden = 100, num_outputs = 10).to(device)\n",
    "optimizer = optim.Adam(model.parameters(), lr)\n",
    "\n",
    "for _ in range(EPOCHS):\n",
    "    for input, target in tqdm(train_loader):\n",
    "        output = model(input.to(device))\n",
    "        loss = criterion(output, target.to(device))\n",
    "        optimizer.zero_grad()\n",
    "        loss.backward()\n",
    "        optimizer.step()\n",
    "        \n",
    "accuracies['mnist_initial'] = find_accuracy(model, test_loader)"
   ]
  },
  {
   "cell_type": "code",
   "execution_count": 27,
   "id": "8af665f2-b170-4f8c-908c-481c843295c0",
   "metadata": {},
   "outputs": [],
   "source": [
    "f_mnist_train = datasets.FashionMNIST(\"../data\", train=True, download=True, transform=transforms.ToTensor())\n",
    "f_mnist_test = datasets.FashionMNIST(\"../data\", train=False, download=True, transform=transforms.ToTensor())\n",
    "f_train_loader = DataLoader(f_mnist_train, batch_size = 100, shuffle=True)\n",
    "f_test_loader = DataLoader(f_mnist_test, batch_size = 100, shuffle=False)"
   ]
  },
  {
   "cell_type": "code",
   "execution_count": 32,
   "id": "38d67bf0-4d9c-4b14-9d28-89e2c3d48aa6",
   "metadata": {},
   "outputs": [
    {
     "name": "stderr",
     "output_type": "stream",
     "text": [
      "100%|████████████████████████████████████████| 600/600 [00:01<00:00, 372.26it/s]\n",
      "100%|████████████████████████████████████████| 600/600 [00:01<00:00, 371.95it/s]\n",
      "100%|████████████████████████████████████████| 600/600 [00:01<00:00, 372.20it/s]\n",
      "100%|████████████████████████████████████████| 600/600 [00:01<00:00, 373.79it/s]\n",
      "100%|████████████████████████████████████████| 600/600 [00:01<00:00, 373.83it/s]\n",
      "100%|████████████████████████████████████████| 600/600 [00:01<00:00, 365.60it/s]\n",
      "100%|████████████████████████████████████████| 600/600 [00:01<00:00, 373.42it/s]\n",
      "100%|████████████████████████████████████████| 600/600 [00:01<00:00, 374.73it/s]\n",
      "100%|████████████████████████████████████████| 600/600 [00:01<00:00, 374.61it/s]\n",
      "100%|████████████████████████████████████████| 600/600 [00:01<00:00, 371.95it/s]\n"
     ]
    }
   ],
   "source": [
    "\n",
    "estimated_mean, estimated_fisher = estimate_ewc_params(model, mnist_train)\n",
    "\n",
    "for _ in range(EPOCHS):\n",
    "    for input, target in tqdm(f_train_loader):\n",
    "        output = model(input.to(device))\n",
    "        loss = ewc_loss(model, weight, estimated_fisher, estimated_mean) + criterion(output, target.to(device))\n",
    "        optimizer.zero_grad()\n",
    "        loss.backward()\n",
    "        optimizer.step()\n",
    "        \n",
    "accuracies['mnist_EWC'] = find_accuracy(model, test_loader)\n",
    "accuracies['f_mnist_EWC'] = find_accuracy(model, f_test_loader)"
   ]
  },
  {
   "cell_type": "code",
   "execution_count": 34,
   "id": "55def893-b8ae-459b-b39b-a770e9d93c5c",
   "metadata": {},
   "outputs": [
    {
     "data": {
      "text/plain": [
       "{'mnist_initial': 0.9805001831054687,\n",
       " 'mnist_EWC': 0.9651000213623047,\n",
       " 'f_mnist_EWC': 0.8382001495361329}"
      ]
     },
     "execution_count": 34,
     "metadata": {},
     "output_type": "execute_result"
    }
   ],
   "source": [
    "accuracies "
   ]
  },
  {
   "cell_type": "code",
   "execution_count": null,
   "id": "374f0174-d13d-4f52-85eb-abb5f2f9fdf4",
   "metadata": {},
   "outputs": [],
   "source": []
  }
 ],
 "metadata": {
  "kernelspec": {
   "display_name": "Python 3 (ipykernel)",
   "language": "python",
   "name": "python3"
  },
  "language_info": {
   "codemirror_mode": {
    "name": "ipython",
    "version": 3
   },
   "file_extension": ".py",
   "mimetype": "text/x-python",
   "name": "python",
   "nbconvert_exporter": "python",
   "pygments_lexer": "ipython3",
   "version": "3.12.4"
  }
 },
 "nbformat": 4,
 "nbformat_minor": 5
}
